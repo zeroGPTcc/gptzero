{
 "metadata": {
  "name": ""
 },
 "nbformat": 3,
 "nbformat_minor": 0,
 "worksheets": [
  {
   "cells": [
    {
     "cell_type": "markdown",
     "metadata": {},
     "source": [
      "# SymPy: Open Source Symbolic Mathematics\n",
      "\n",
      "This notebook uses the [SymPy](http://sympy.org) package to perform symbolic manipulations,\n",
      "and combined with numpy and matplotlib, also displays numerical visualizations of symbolically\n",
      "constructed expressions.\n",
      "\n",
      "We first load sympy printing extensions, as well as all of sympy:"
     ]
    }
]}]
